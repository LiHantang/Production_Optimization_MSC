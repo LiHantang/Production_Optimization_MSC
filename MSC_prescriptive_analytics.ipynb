{
  "nbformat": 4,
  "nbformat_minor": 0,
  "metadata": {
    "colab": {
      "provenance": [],
      "authorship_tag": "ABX9TyOAtyImUTeU2pHS/75nB+6A",
      "include_colab_link": true
    },
    "kernelspec": {
      "name": "python3",
      "display_name": "Python 3"
    },
    "language_info": {
      "name": "python"
    }
  },
  "cells": [
    {
      "cell_type": "markdown",
      "metadata": {
        "id": "view-in-github",
        "colab_type": "text"
      },
      "source": [
        "<a href=\"https://colab.research.google.com/github/LiHantang/Production_Optimization_MSC/blob/main/MSC_prescriptive_analytics.ipynb\" target=\"_parent\"><img src=\"https://colab.research.google.com/assets/colab-badge.svg\" alt=\"Open In Colab\"/></a>"
      ]
    },
    {
      "cell_type": "code",
      "execution_count": null,
      "metadata": {
        "colab": {
          "base_uri": "https://localhost:8080/"
        },
        "id": "cZAaiD_e8DMz",
        "outputId": "411b5205-c793-4d7a-b94a-a1f46a2f83de"
      },
      "outputs": [
        {
          "output_type": "stream",
          "name": "stdout",
          "text": [
            "Collecting pulp\n",
            "  Downloading PuLP-2.6.0-py3-none-any.whl (14.2 MB)\n",
            "\u001b[K     |████████████████████████████████| 14.2 MB 5.0 MB/s \n",
            "\u001b[?25hInstalling collected packages: pulp\n",
            "Successfully installed pulp-2.6.0\n"
          ]
        }
      ],
      "source": [
        "!pip install pulp"
      ]
    },
    {
      "cell_type": "code",
      "source": [
        "from pulp import *\n",
        "import pandas as pd"
      ],
      "metadata": {
        "id": "BJB-7DFj8Ylv"
      },
      "execution_count": null,
      "outputs": []
    },
    {
      "cell_type": "code",
      "source": [
        "from google.colab import files\n",
        "f = files.upload()"
      ],
      "metadata": {
        "colab": {
          "resources": {
            "http://localhost:8080/nbextensions/google.colab/files.js": {
              "data": "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",
              "ok": true,
              "headers": [
                [
                  "content-type",
                  "application/javascript"
                ]
              ],
              "status": 200,
              "status_text": ""
            }
          },
          "base_uri": "https://localhost:8080/",
          "height": 76
        },
        "id": "tYfVw6hiBbjb",
        "outputId": "58070a8a-3103-45ca-b912-227441069004"
      },
      "execution_count": null,
      "outputs": [
        {
          "output_type": "display_data",
          "data": {
            "text/html": [
              "\n",
              "     <input type=\"file\" id=\"files-2ef38001-a85d-48ca-b84d-c4099cdae4dd\" name=\"files[]\" multiple disabled\n",
              "        style=\"border:none\" />\n",
              "     <output id=\"result-2ef38001-a85d-48ca-b84d-c4099cdae4dd\">\n",
              "      Upload widget is only available when the cell has been executed in the\n",
              "      current browser session. Please rerun this cell to enable.\n",
              "      </output>\n",
              "      <script src=\"/nbextensions/google.colab/files.js\"></script> "
            ],
            "text/plain": [
              "<IPython.core.display.HTML object>"
            ]
          },
          "metadata": {}
        },
        {
          "output_type": "stream",
          "name": "stdout",
          "text": [
            "Saving transportation_distance.csv to transportation_distance.csv\n"
          ]
        }
      ]
    },
    {
      "cell_type": "code",
      "source": [
        "trans_dist = pd.read_csv('transportation_distance.csv',index_col=[0])\n",
        "trans_dist"
      ],
      "metadata": {
        "colab": {
          "base_uri": "https://localhost:8080/",
          "height": 206
        },
        "id": "3RKi58D1Bxcp",
        "outputId": "428294e4-a89b-4859-8f4f-2abefefe0332"
      },
      "execution_count": null,
      "outputs": [
        {
          "output_type": "execute_result",
          "data": {
            "text/html": [
              "<div>\n",
              "<style scoped>\n",
              "    .dataframe tbody tr th:only-of-type {\n",
              "        vertical-align: middle;\n",
              "    }\n",
              "\n",
              "    .dataframe tbody tr th {\n",
              "        vertical-align: top;\n",
              "    }\n",
              "\n",
              "    .dataframe thead th {\n",
              "        text-align: right;\n",
              "    }\n",
              "</style>\n",
              "<table border=\"1\" class=\"dataframe\">\n",
              "  <thead>\n",
              "    <tr style=\"text-align: right;\">\n",
              "      <th></th>\n",
              "      <th>STL1</th>\n",
              "      <th>STL2</th>\n",
              "      <th>STL3</th>\n",
              "      <th>STL4</th>\n",
              "      <th>KS1</th>\n",
              "      <th>KS2</th>\n",
              "      <th>COL</th>\n",
              "      <th>SPR</th>\n",
              "    </tr>\n",
              "  </thead>\n",
              "  <tbody>\n",
              "    <tr>\n",
              "      <th>STL</th>\n",
              "      <td>10</td>\n",
              "      <td>10</td>\n",
              "      <td>10</td>\n",
              "      <td>10</td>\n",
              "      <td>250</td>\n",
              "      <td>250</td>\n",
              "      <td>120</td>\n",
              "      <td>215</td>\n",
              "    </tr>\n",
              "    <tr>\n",
              "      <th>KSC</th>\n",
              "      <td>250</td>\n",
              "      <td>250</td>\n",
              "      <td>250</td>\n",
              "      <td>250</td>\n",
              "      <td>10</td>\n",
              "      <td>10</td>\n",
              "      <td>130</td>\n",
              "      <td>165</td>\n",
              "    </tr>\n",
              "    <tr>\n",
              "      <th>CLB</th>\n",
              "      <td>120</td>\n",
              "      <td>120</td>\n",
              "      <td>120</td>\n",
              "      <td>120</td>\n",
              "      <td>130</td>\n",
              "      <td>130</td>\n",
              "      <td>10</td>\n",
              "      <td>170</td>\n",
              "    </tr>\n",
              "    <tr>\n",
              "      <th>SPF</th>\n",
              "      <td>215</td>\n",
              "      <td>215</td>\n",
              "      <td>215</td>\n",
              "      <td>215</td>\n",
              "      <td>165</td>\n",
              "      <td>165</td>\n",
              "      <td>170</td>\n",
              "      <td>10</td>\n",
              "    </tr>\n",
              "    <tr>\n",
              "      <th>IDP</th>\n",
              "      <td>240</td>\n",
              "      <td>240</td>\n",
              "      <td>240</td>\n",
              "      <td>240</td>\n",
              "      <td>15</td>\n",
              "      <td>15</td>\n",
              "      <td>125</td>\n",
              "      <td>170</td>\n",
              "    </tr>\n",
              "  </tbody>\n",
              "</table>\n",
              "</div>"
            ],
            "text/plain": [
              "     STL1  STL2  STL3  STL4  KS1  KS2  COL  SPR\n",
              "STL    10    10    10    10  250  250  120  215\n",
              "KSC   250   250   250   250   10   10  130  165\n",
              "CLB   120   120   120   120  130  130   10  170\n",
              "SPF   215   215   215   215  165  165  170   10\n",
              "IDP   240   240   240   240   15   15  125  170"
            ]
          },
          "metadata": {},
          "execution_count": 4
        }
      ]
    },
    {
      "cell_type": "markdown",
      "source": [
        "# Problem 1"
      ],
      "metadata": {
        "id": "00jPm7Sqw3ad"
      }
    },
    {
      "cell_type": "code",
      "source": [
        "# Establish linear minimization problem to minimize the total cost\n",
        "prob = LpProblem('prob', LpMinimize)\n",
        "\n",
        "# Parameters\n",
        "demand = {'Shoes':{'STL1':8000, 'STL2':6500, 'STL3':7500, 'STL4':0, 'KS1':9500, 'KS2':2300, 'COL':7000, 'SPR':6000},\\\n",
        "          'Boots':{'STL1':2200, 'STL2':0, 'STL3':1200, 'STL4':900, 'KS1':4500, 'KS2':0, 'COL':2000, 'SPR':3200}}\n",
        "fixed_cost = {'STL':{1:0,2:2500000},'KSC':{1:1000000,2:1700000},'CLB':{1:1000000,2:1500000}, 'SPF':{1:1000000,2:1500000},'IDP':{1:900000,2:1300000}}\n",
        "variable_cost = {'STL':{'Shoes':20,'Boots':30},'KSC':{'Shoes':18,'Boots':25},'CLB':{'Shoes':15,'Boots':20}, 'SPF':{'Shoes':15,'Boots':20},'IDP':{'Shoes':12,'Boots':18}}\n",
        "unit_transportation_cost = {'Shoes':0.03, 'Boots':0.04}\n",
        "dist = trans_dist.transpose().to_dict()\n",
        "\n",
        "# Define Variables\n",
        "plant = ['STL','KSC','CLB','SPF','IDP']\n",
        "destination = ['STL1','STL2','STL3','STL4','KS1','KS2','COL','SPR']\n",
        "lines = [1,2]\n",
        "products = ['Shoes', 'Boots']\n",
        "decision_combinations = [(i,j) for i in plant for j in lines]\n",
        "production_combinations = [(i,j,p) for i in plant for j in lines for p in products]\n",
        "trans_combinations = [(i,k,p) for i in plant for k in destination for p in products]\n",
        "\n",
        "decision = LpVariable.dicts('decision',decision_combinations,lowBound=0,cat='Binary')\n",
        "quantity = LpVariable.dicts('quantity',production_combinations,lowBound=0, cat='Continuous')\n",
        "trans_quantity = LpVariable.dicts('trans_quanity',trans_combinations, lowBound=0, cat='Continuous')"
      ],
      "metadata": {
        "id": "8rzlCEHl9IV7"
      },
      "execution_count": null,
      "outputs": []
    },
    {
      "cell_type": "code",
      "source": [
        "# Objective function\n",
        "fix_cost = lpSum([decision[(i,j)]*fixed_cost[i][j] for i in plant for j in lines])\n",
        "variable_cost = lpSum([quantity[(i,j,p)]* variable_cost[i][p] for i in plant for j in lines for p in products])\n",
        "trans_cost = lpSum([dist[i][d]*(0.03*trans_quantity[(i,d,'Shoes')]+0.04*trans_quantity[(i,d,'Boots')]) for i in plant for d in destination])\n",
        "prob += fix_cost + variable_cost + trans_cost\n",
        "\n",
        "# Constraints\n",
        "## We already have 2 lines in STL and 1 line in KSC\n",
        "prob += decision[('STL',2)] == 1, 'Production_STL'\n",
        "prob += lpSum([decision[('KSC',j)] for j in lines]) == 1, 'Production_KSC'\n",
        "\n",
        "## Every other plant can have 1, 2 or no product line\n",
        "for i in plant:\n",
        "    prob += lpSum([decision[(i,j)] for j in lines]) <= 1, 'Production_Line_%s' %i\n",
        "\n",
        "## The capacity of the plant should be respected\n",
        "for i in plant:\n",
        "    for j in lines:\n",
        "        prob += lpSum([(1/15000)*quantity[(i,j,'Shoes')]+(1/9000)*quantity[(i,j,'Boots')]]) <= decision[(i,j)]*j, 'Capacity_%s_%s' %(i,j)\n",
        "\n",
        "## The demand of customeres should be satisfied\n",
        "for d in destination:\n",
        "    for p in products:\n",
        "        prob += lpSum([trans_quantity[(i,d,p)] for i in plant]) == demand[p][d], 'Demand_%s_%s' %(p,d)\n",
        "\n",
        "## expansion and/or extra\n",
        "prob += lpSum([decision[(i,j)] for i in plant[2:] for j in lines]) <= 1, 'Extra_Plant_%s_%i' %(i,j)\n",
        "\n",
        "## The output of the plant should equal to its prouction\n",
        "for i in plant:\n",
        "    for p in products:\n",
        "        prob += lpSum([trans_quantity[(i,d,p)] for d in destination]) == lpSum([quantity[(i,j,p)] for j in lines]), 'Output_%s_%s' %(i,p)"
      ],
      "metadata": {
        "id": "UWkQKxLlGGKC"
      },
      "execution_count": null,
      "outputs": []
    },
    {
      "cell_type": "code",
      "source": [
        "# Solve for the answer\n",
        "prob.solve()\n",
        "print('Status: ', LpStatus[prob.status])"
      ],
      "metadata": {
        "colab": {
          "base_uri": "https://localhost:8080/"
        },
        "id": "L64LlnKMVcY1",
        "outputId": "9a9cc7f3-bd7b-47ff-a692-64131c2f306c"
      },
      "execution_count": null,
      "outputs": [
        {
          "output_type": "stream",
          "name": "stdout",
          "text": [
            "Status:  Optimal\n"
          ]
        }
      ]
    },
    {
      "cell_type": "code",
      "source": [
        "# get the minimized cost\n",
        "print(\"Total cost = \", value(prob.objective))"
      ],
      "metadata": {
        "colab": {
          "base_uri": "https://localhost:8080/"
        },
        "id": "03ByeikWXDDw",
        "outputId": "c9eff9d5-5477-4313-cb23-45cb62bcf791"
      },
      "execution_count": null,
      "outputs": [
        {
          "output_type": "stream",
          "name": "stdout",
          "text": [
            "Total cost =  5990884.0\n"
          ]
        }
      ]
    },
    {
      "cell_type": "code",
      "source": [
        "# production\n",
        "output = []\n",
        "for i in plant:\n",
        "    for j in lines:\n",
        "        output_sub = [decision[(i,j)].varValue]\n",
        "        for p in products:\n",
        "            output_sub.append(quantity[(i,j,p)].varValue)\n",
        "        output.append(output_sub)\n",
        "production_df = pd.DataFrame(output,index=decision_combinations, columns=['Decision','Shoes','Boots'])\n",
        "production_df"
      ],
      "metadata": {
        "colab": {
          "base_uri": "https://localhost:8080/",
          "height": 363
        },
        "id": "7vsqpXNwYgMk",
        "outputId": "0fc82491-409d-4335-88f8-971e94c5384e"
      },
      "execution_count": null,
      "outputs": [
        {
          "output_type": "execute_result",
          "data": {
            "text/html": [
              "<div>\n",
              "<style scoped>\n",
              "    .dataframe tbody tr th:only-of-type {\n",
              "        vertical-align: middle;\n",
              "    }\n",
              "\n",
              "    .dataframe tbody tr th {\n",
              "        vertical-align: top;\n",
              "    }\n",
              "\n",
              "    .dataframe thead th {\n",
              "        text-align: right;\n",
              "    }\n",
              "</style>\n",
              "<table border=\"1\" class=\"dataframe\">\n",
              "  <thead>\n",
              "    <tr style=\"text-align: right;\">\n",
              "      <th></th>\n",
              "      <th>Decision</th>\n",
              "      <th>Shoes</th>\n",
              "      <th>Boots</th>\n",
              "    </tr>\n",
              "  </thead>\n",
              "  <tbody>\n",
              "    <tr>\n",
              "      <th>(STL, 1)</th>\n",
              "      <td>0.0</td>\n",
              "      <td>0.0</td>\n",
              "      <td>0.0</td>\n",
              "    </tr>\n",
              "    <tr>\n",
              "      <th>(STL, 2)</th>\n",
              "      <td>1.0</td>\n",
              "      <td>22000.0</td>\n",
              "      <td>4300.0</td>\n",
              "    </tr>\n",
              "    <tr>\n",
              "      <th>(KSC, 1)</th>\n",
              "      <td>1.0</td>\n",
              "      <td>0.0</td>\n",
              "      <td>6580.0</td>\n",
              "    </tr>\n",
              "    <tr>\n",
              "      <th>(KSC, 2)</th>\n",
              "      <td>0.0</td>\n",
              "      <td>0.0</td>\n",
              "      <td>0.0</td>\n",
              "    </tr>\n",
              "    <tr>\n",
              "      <th>(CLB, 1)</th>\n",
              "      <td>0.0</td>\n",
              "      <td>0.0</td>\n",
              "      <td>0.0</td>\n",
              "    </tr>\n",
              "    <tr>\n",
              "      <th>(CLB, 2)</th>\n",
              "      <td>0.0</td>\n",
              "      <td>0.0</td>\n",
              "      <td>0.0</td>\n",
              "    </tr>\n",
              "    <tr>\n",
              "      <th>(SPF, 1)</th>\n",
              "      <td>0.0</td>\n",
              "      <td>0.0</td>\n",
              "      <td>0.0</td>\n",
              "    </tr>\n",
              "    <tr>\n",
              "      <th>(SPF, 2)</th>\n",
              "      <td>0.0</td>\n",
              "      <td>0.0</td>\n",
              "      <td>0.0</td>\n",
              "    </tr>\n",
              "    <tr>\n",
              "      <th>(IDP, 1)</th>\n",
              "      <td>0.0</td>\n",
              "      <td>0.0</td>\n",
              "      <td>0.0</td>\n",
              "    </tr>\n",
              "    <tr>\n",
              "      <th>(IDP, 2)</th>\n",
              "      <td>1.0</td>\n",
              "      <td>24800.0</td>\n",
              "      <td>3120.0</td>\n",
              "    </tr>\n",
              "  </tbody>\n",
              "</table>\n",
              "</div>"
            ],
            "text/plain": [
              "          Decision    Shoes   Boots\n",
              "(STL, 1)       0.0      0.0     0.0\n",
              "(STL, 2)       1.0  22000.0  4300.0\n",
              "(KSC, 1)       1.0      0.0  6580.0\n",
              "(KSC, 2)       0.0      0.0     0.0\n",
              "(CLB, 1)       0.0      0.0     0.0\n",
              "(CLB, 2)       0.0      0.0     0.0\n",
              "(SPF, 1)       0.0      0.0     0.0\n",
              "(SPF, 2)       0.0      0.0     0.0\n",
              "(IDP, 1)       0.0      0.0     0.0\n",
              "(IDP, 2)       1.0  24800.0  3120.0"
            ]
          },
          "metadata": {},
          "execution_count": 46
        }
      ]
    },
    {
      "cell_type": "code",
      "source": [
        "# transportation shoes\n",
        "output = {}\n",
        "for j in destination:\n",
        "    output[j]=[trans_quantity[(i,j,'Shoes')].varValue for i in plant]\n",
        "output_df = pd.DataFrame(output, index=plant, columns=destination)\n",
        "output_df"
      ],
      "metadata": {
        "colab": {
          "base_uri": "https://localhost:8080/",
          "height": 206
        },
        "id": "voDDARYcZYTv",
        "outputId": "96ad7308-5282-427a-ac68-b251bc6cbf37"
      },
      "execution_count": null,
      "outputs": [
        {
          "output_type": "execute_result",
          "data": {
            "text/html": [
              "<div>\n",
              "<style scoped>\n",
              "    .dataframe tbody tr th:only-of-type {\n",
              "        vertical-align: middle;\n",
              "    }\n",
              "\n",
              "    .dataframe tbody tr th {\n",
              "        vertical-align: top;\n",
              "    }\n",
              "\n",
              "    .dataframe thead th {\n",
              "        text-align: right;\n",
              "    }\n",
              "</style>\n",
              "<table border=\"1\" class=\"dataframe\">\n",
              "  <thead>\n",
              "    <tr style=\"text-align: right;\">\n",
              "      <th></th>\n",
              "      <th>STL1</th>\n",
              "      <th>STL2</th>\n",
              "      <th>STL3</th>\n",
              "      <th>STL4</th>\n",
              "      <th>KS1</th>\n",
              "      <th>KS2</th>\n",
              "      <th>COL</th>\n",
              "      <th>SPR</th>\n",
              "    </tr>\n",
              "  </thead>\n",
              "  <tbody>\n",
              "    <tr>\n",
              "      <th>STL</th>\n",
              "      <td>8000.0</td>\n",
              "      <td>6500.0</td>\n",
              "      <td>7500.0</td>\n",
              "      <td>0.0</td>\n",
              "      <td>0.0</td>\n",
              "      <td>0.0</td>\n",
              "      <td>0.0</td>\n",
              "      <td>0.0</td>\n",
              "    </tr>\n",
              "    <tr>\n",
              "      <th>KSC</th>\n",
              "      <td>0.0</td>\n",
              "      <td>0.0</td>\n",
              "      <td>0.0</td>\n",
              "      <td>0.0</td>\n",
              "      <td>0.0</td>\n",
              "      <td>0.0</td>\n",
              "      <td>0.0</td>\n",
              "      <td>0.0</td>\n",
              "    </tr>\n",
              "    <tr>\n",
              "      <th>CLB</th>\n",
              "      <td>0.0</td>\n",
              "      <td>0.0</td>\n",
              "      <td>0.0</td>\n",
              "      <td>0.0</td>\n",
              "      <td>0.0</td>\n",
              "      <td>0.0</td>\n",
              "      <td>0.0</td>\n",
              "      <td>0.0</td>\n",
              "    </tr>\n",
              "    <tr>\n",
              "      <th>SPF</th>\n",
              "      <td>0.0</td>\n",
              "      <td>0.0</td>\n",
              "      <td>0.0</td>\n",
              "      <td>0.0</td>\n",
              "      <td>0.0</td>\n",
              "      <td>0.0</td>\n",
              "      <td>0.0</td>\n",
              "      <td>0.0</td>\n",
              "    </tr>\n",
              "    <tr>\n",
              "      <th>IDP</th>\n",
              "      <td>0.0</td>\n",
              "      <td>0.0</td>\n",
              "      <td>0.0</td>\n",
              "      <td>0.0</td>\n",
              "      <td>9500.0</td>\n",
              "      <td>2300.0</td>\n",
              "      <td>7000.0</td>\n",
              "      <td>6000.0</td>\n",
              "    </tr>\n",
              "  </tbody>\n",
              "</table>\n",
              "</div>"
            ],
            "text/plain": [
              "       STL1    STL2    STL3  STL4     KS1     KS2     COL     SPR\n",
              "STL  8000.0  6500.0  7500.0   0.0     0.0     0.0     0.0     0.0\n",
              "KSC     0.0     0.0     0.0   0.0     0.0     0.0     0.0     0.0\n",
              "CLB     0.0     0.0     0.0   0.0     0.0     0.0     0.0     0.0\n",
              "SPF     0.0     0.0     0.0   0.0     0.0     0.0     0.0     0.0\n",
              "IDP     0.0     0.0     0.0   0.0  9500.0  2300.0  7000.0  6000.0"
            ]
          },
          "metadata": {},
          "execution_count": 47
        }
      ]
    },
    {
      "cell_type": "code",
      "source": [
        "# transportation boots\n",
        "output = {}\n",
        "for j in destination:\n",
        "    output[j]=[trans_quantity[(i,j,'Boots')].varValue for i in plant]\n",
        "output_df = pd.DataFrame(output, index=plant, columns=destination)\n",
        "output_df"
      ],
      "metadata": {
        "colab": {
          "base_uri": "https://localhost:8080/",
          "height": 206
        },
        "id": "ANn93G4-ojsr",
        "outputId": "9dcf4336-0ac3-4467-f9b1-639671e06669"
      },
      "execution_count": null,
      "outputs": [
        {
          "output_type": "execute_result",
          "data": {
            "text/html": [
              "<div>\n",
              "<style scoped>\n",
              "    .dataframe tbody tr th:only-of-type {\n",
              "        vertical-align: middle;\n",
              "    }\n",
              "\n",
              "    .dataframe tbody tr th {\n",
              "        vertical-align: top;\n",
              "    }\n",
              "\n",
              "    .dataframe thead th {\n",
              "        text-align: right;\n",
              "    }\n",
              "</style>\n",
              "<table border=\"1\" class=\"dataframe\">\n",
              "  <thead>\n",
              "    <tr style=\"text-align: right;\">\n",
              "      <th></th>\n",
              "      <th>STL1</th>\n",
              "      <th>STL2</th>\n",
              "      <th>STL3</th>\n",
              "      <th>STL4</th>\n",
              "      <th>KS1</th>\n",
              "      <th>KS2</th>\n",
              "      <th>COL</th>\n",
              "      <th>SPR</th>\n",
              "    </tr>\n",
              "  </thead>\n",
              "  <tbody>\n",
              "    <tr>\n",
              "      <th>STL</th>\n",
              "      <td>2200.0</td>\n",
              "      <td>0.0</td>\n",
              "      <td>1200.0</td>\n",
              "      <td>900.0</td>\n",
              "      <td>0.0</td>\n",
              "      <td>0.0</td>\n",
              "      <td>0.0</td>\n",
              "      <td>0.0</td>\n",
              "    </tr>\n",
              "    <tr>\n",
              "      <th>KSC</th>\n",
              "      <td>0.0</td>\n",
              "      <td>0.0</td>\n",
              "      <td>0.0</td>\n",
              "      <td>0.0</td>\n",
              "      <td>4500.0</td>\n",
              "      <td>0.0</td>\n",
              "      <td>0.0</td>\n",
              "      <td>2080.0</td>\n",
              "    </tr>\n",
              "    <tr>\n",
              "      <th>CLB</th>\n",
              "      <td>0.0</td>\n",
              "      <td>0.0</td>\n",
              "      <td>0.0</td>\n",
              "      <td>0.0</td>\n",
              "      <td>0.0</td>\n",
              "      <td>0.0</td>\n",
              "      <td>0.0</td>\n",
              "      <td>0.0</td>\n",
              "    </tr>\n",
              "    <tr>\n",
              "      <th>SPF</th>\n",
              "      <td>0.0</td>\n",
              "      <td>0.0</td>\n",
              "      <td>0.0</td>\n",
              "      <td>0.0</td>\n",
              "      <td>0.0</td>\n",
              "      <td>0.0</td>\n",
              "      <td>0.0</td>\n",
              "      <td>0.0</td>\n",
              "    </tr>\n",
              "    <tr>\n",
              "      <th>IDP</th>\n",
              "      <td>0.0</td>\n",
              "      <td>0.0</td>\n",
              "      <td>0.0</td>\n",
              "      <td>0.0</td>\n",
              "      <td>0.0</td>\n",
              "      <td>0.0</td>\n",
              "      <td>2000.0</td>\n",
              "      <td>1120.0</td>\n",
              "    </tr>\n",
              "  </tbody>\n",
              "</table>\n",
              "</div>"
            ],
            "text/plain": [
              "       STL1  STL2    STL3   STL4     KS1  KS2     COL     SPR\n",
              "STL  2200.0   0.0  1200.0  900.0     0.0  0.0     0.0     0.0\n",
              "KSC     0.0   0.0     0.0    0.0  4500.0  0.0     0.0  2080.0\n",
              "CLB     0.0   0.0     0.0    0.0     0.0  0.0     0.0     0.0\n",
              "SPF     0.0   0.0     0.0    0.0     0.0  0.0     0.0     0.0\n",
              "IDP     0.0   0.0     0.0    0.0     0.0  0.0  2000.0  1120.0"
            ]
          },
          "metadata": {},
          "execution_count": 48
        }
      ]
    },
    {
      "cell_type": "markdown",
      "source": [
        "# Problem 2"
      ],
      "metadata": {
        "id": "Qo-ZkbZJxCBn"
      }
    },
    {
      "cell_type": "code",
      "source": [
        "# Establish linear minimization problem to minimize the total cost\n",
        "prob2 = LpProblem('prob2', LpMaximize)\n",
        "\n",
        "# Parameters\n",
        "demand = {'Shoes':{'STL1':8000, 'STL2':6500, 'STL3':7500, 'STL4':0, 'KS1':9500, 'KS2':2300, 'COL':7000, 'SPR':6000},\\\n",
        "          'Boots':{'STL1':2200, 'STL2':0, 'STL3':1200, 'STL4':900, 'KS1':4500, 'KS2':0, 'COL':2000, 'SPR':3200}}\n",
        "fixed_cost = {'STL':{1:0,2:2500000},'KSC':{1:1000000,2:1700000},'CLB':{1:1000000,2:1500000}, 'SPF':{1:1000000,2:1500000},'IDP':{1:900000,2:1300000}}\n",
        "variable_cost = {'STL':{'Shoes':20,'Boots':30},'KSC':{'Shoes':18,'Boots':25},'CLB':{'Shoes':15,'Boots':20}, 'SPF':{'Shoes':15,'Boots':20},'IDP':{'Shoes':12,'Boots':18}}\n",
        "unit_transportation_cost = {'Shoes':0.03, 'Boots':0.04}\n",
        "dist = trans_dist.transpose().to_dict()\n",
        "\n",
        "# Define Variables\n",
        "plant = ['STL','KSC','CLB','SPF','IDP']\n",
        "destination = ['STL1','STL2','STL3','STL4','KS1','KS2','COL','SPR']\n",
        "lines = [1,2]\n",
        "products = ['Shoes', 'Boots']\n",
        "decision_combinations = [(i,j) for i in plant for j in lines]\n",
        "production_combinations = [(i,j,p) for i in plant for j in lines for p in products]\n",
        "trans_combinations = [(i,k,p) for i in plant for k in destination for p in products]\n",
        "\n",
        "decision = LpVariable.dicts('decision',decision_combinations,lowBound=0,cat='Binary')\n",
        "quantity = LpVariable.dicts('quantity',production_combinations,lowBound=0, cat='Continuous')\n",
        "trans_quantity = LpVariable.dicts('trans_quanity',trans_combinations, lowBound=0, cat='Continuous')"
      ],
      "metadata": {
        "id": "GVpqN0EDZZOW"
      },
      "execution_count": null,
      "outputs": []
    },
    {
      "cell_type": "code",
      "source": [
        "# Objective function\n",
        "fix_cost = lpSum([decision[(i,j)]*fixed_cost[i][j] for i in plant for j in lines])\n",
        "variable_cost = lpSum([quantity[(i,j,p)]* variable_cost[i][p] for i in plant for j in lines for p in products])\n",
        "trans_cost = lpSum([dist[i][d]*(0.03*trans_quantity[(i,d,'Shoes')]+0.04*trans_quantity[(i,d,'Boots')]) for i in plant for d in destination])\n",
        "revenue = lpSum([80*quantity[(i,j,'Boots')]+50*quantity[(i,j,'Shoes')] for i in plant for j in lines])\n",
        "prob2 += revenue - fix_cost - variable_cost - trans_cost\n",
        "\n",
        "# Constraints\n",
        "## We already have 2 lines in STL and 1 line in KSC\n",
        "prob2 += decision[('STL',2)] == 1, 'Production_STL'\n",
        "prob2 += lpSum([decision[('KSC',j)] for j in lines]) == 1, 'Production_KSC'\n",
        "\n",
        "## Every other plant can have 1, 2 or no product line\n",
        "for i in plant:\n",
        "    prob2 += lpSum([decision[(i,j)] for j in lines]) <= 1, 'Production_Line_%s' %i\n",
        "\n",
        "## The capacity of the plant should be respected\n",
        "for i in plant:\n",
        "    for j in lines:\n",
        "        prob2 += lpSum([(1/15000)*quantity[(i,j,'Shoes')]+(1/9000)*quantity[(i,j,'Boots')]]) <= decision[(i,j)]*j, 'Capacity_%s_%s' %(i,j)\n",
        "\n",
        "## The demand of customeres should be satisfied\n",
        "for d in destination:\n",
        "    for p in products:\n",
        "        prob2 += lpSum([trans_quantity[(i,d,p)] for i in plant]) == demand[p][d], 'Demand_%s_%s' %(p,d)\n",
        "\n",
        "## expansion and/or extra\n",
        "prob2 += lpSum([decision[(i,j)] for i in plant[2:] for j in lines]) <= 1, 'Extra_Plant_%s_%i' %(i,j)\n",
        "\n",
        "## The output of the plant should equal to its prouction\n",
        "for i in plant:\n",
        "    for p in products:\n",
        "        prob2 += lpSum([trans_quantity[(i,d,p)] for d in destination]) == lpSum([quantity[(i,j,p)] for j in lines]), 'Output_%s_%s' %(i,p)"
      ],
      "metadata": {
        "id": "CASjKfYGyb25"
      },
      "execution_count": null,
      "outputs": []
    },
    {
      "cell_type": "code",
      "source": [
        "# Solve for the answer\n",
        "prob2.solve()\n",
        "print('Status: ', LpStatus[prob2.status])"
      ],
      "metadata": {
        "colab": {
          "base_uri": "https://localhost:8080/"
        },
        "id": "j90K3x6xyet3",
        "outputId": "e7749650-2e96-4281-8aa6-b30bd4f38264"
      },
      "execution_count": null,
      "outputs": [
        {
          "output_type": "stream",
          "name": "stdout",
          "text": [
            "Status:  Optimal\n"
          ]
        }
      ]
    },
    {
      "cell_type": "code",
      "source": [
        "# get the minimized cost\n",
        "print(\"Total profit = \", value(prob2.objective))"
      ],
      "metadata": {
        "colab": {
          "base_uri": "https://localhost:8080/"
        },
        "id": "neva0t3SzwRq",
        "outputId": "335254b8-9220-4d4c-8d44-7b371b2f9110"
      },
      "execution_count": null,
      "outputs": [
        {
          "output_type": "stream",
          "name": "stdout",
          "text": [
            "Total profit =  -2530884.0\n"
          ]
        }
      ]
    },
    {
      "cell_type": "code",
      "source": [
        "# production\n",
        "output = []\n",
        "for i in plant:\n",
        "    for j in lines:\n",
        "        output_sub = [decision[(i,j)].varValue]\n",
        "        for p in products:\n",
        "            output_sub.append(quantity[(i,j,p)].varValue)\n",
        "        output.append(output_sub)\n",
        "production_df = pd.DataFrame(output,index=decision_combinations, columns=['Decision','Shoes','Boots'])\n",
        "production_df"
      ],
      "metadata": {
        "colab": {
          "base_uri": "https://localhost:8080/",
          "height": 363
        },
        "id": "jRCvJIU3zwnB",
        "outputId": "40763ee0-34c7-40b0-93d6-b07e1641304d"
      },
      "execution_count": null,
      "outputs": [
        {
          "output_type": "execute_result",
          "data": {
            "text/html": [
              "<div>\n",
              "<style scoped>\n",
              "    .dataframe tbody tr th:only-of-type {\n",
              "        vertical-align: middle;\n",
              "    }\n",
              "\n",
              "    .dataframe tbody tr th {\n",
              "        vertical-align: top;\n",
              "    }\n",
              "\n",
              "    .dataframe thead th {\n",
              "        text-align: right;\n",
              "    }\n",
              "</style>\n",
              "<table border=\"1\" class=\"dataframe\">\n",
              "  <thead>\n",
              "    <tr style=\"text-align: right;\">\n",
              "      <th></th>\n",
              "      <th>Decision</th>\n",
              "      <th>Shoes</th>\n",
              "      <th>Boots</th>\n",
              "    </tr>\n",
              "  </thead>\n",
              "  <tbody>\n",
              "    <tr>\n",
              "      <th>(STL, 1)</th>\n",
              "      <td>0.0</td>\n",
              "      <td>0.0</td>\n",
              "      <td>0.0</td>\n",
              "    </tr>\n",
              "    <tr>\n",
              "      <th>(STL, 2)</th>\n",
              "      <td>1.0</td>\n",
              "      <td>22000.0</td>\n",
              "      <td>4300.0</td>\n",
              "    </tr>\n",
              "    <tr>\n",
              "      <th>(KSC, 1)</th>\n",
              "      <td>1.0</td>\n",
              "      <td>0.0</td>\n",
              "      <td>6580.0</td>\n",
              "    </tr>\n",
              "    <tr>\n",
              "      <th>(KSC, 2)</th>\n",
              "      <td>0.0</td>\n",
              "      <td>0.0</td>\n",
              "      <td>0.0</td>\n",
              "    </tr>\n",
              "    <tr>\n",
              "      <th>(CLB, 1)</th>\n",
              "      <td>0.0</td>\n",
              "      <td>0.0</td>\n",
              "      <td>0.0</td>\n",
              "    </tr>\n",
              "    <tr>\n",
              "      <th>(CLB, 2)</th>\n",
              "      <td>0.0</td>\n",
              "      <td>0.0</td>\n",
              "      <td>0.0</td>\n",
              "    </tr>\n",
              "    <tr>\n",
              "      <th>(SPF, 1)</th>\n",
              "      <td>0.0</td>\n",
              "      <td>0.0</td>\n",
              "      <td>0.0</td>\n",
              "    </tr>\n",
              "    <tr>\n",
              "      <th>(SPF, 2)</th>\n",
              "      <td>0.0</td>\n",
              "      <td>0.0</td>\n",
              "      <td>0.0</td>\n",
              "    </tr>\n",
              "    <tr>\n",
              "      <th>(IDP, 1)</th>\n",
              "      <td>0.0</td>\n",
              "      <td>0.0</td>\n",
              "      <td>0.0</td>\n",
              "    </tr>\n",
              "    <tr>\n",
              "      <th>(IDP, 2)</th>\n",
              "      <td>1.0</td>\n",
              "      <td>24800.0</td>\n",
              "      <td>3120.0</td>\n",
              "    </tr>\n",
              "  </tbody>\n",
              "</table>\n",
              "</div>"
            ],
            "text/plain": [
              "          Decision    Shoes   Boots\n",
              "(STL, 1)       0.0      0.0     0.0\n",
              "(STL, 2)       1.0  22000.0  4300.0\n",
              "(KSC, 1)       1.0      0.0  6580.0\n",
              "(KSC, 2)       0.0      0.0     0.0\n",
              "(CLB, 1)       0.0      0.0     0.0\n",
              "(CLB, 2)       0.0      0.0     0.0\n",
              "(SPF, 1)       0.0      0.0     0.0\n",
              "(SPF, 2)       0.0      0.0     0.0\n",
              "(IDP, 1)       0.0      0.0     0.0\n",
              "(IDP, 2)       1.0  24800.0  3120.0"
            ]
          },
          "metadata": {},
          "execution_count": 55
        }
      ]
    },
    {
      "cell_type": "code",
      "source": [
        "# transportation shoes\n",
        "output = {}\n",
        "for j in destination:\n",
        "    output[j]=[trans_quantity[(i,j,'Shoes')].varValue for i in plant]\n",
        "output_df = pd.DataFrame(output, index=plant, columns=destination)\n",
        "output_df"
      ],
      "metadata": {
        "colab": {
          "base_uri": "https://localhost:8080/",
          "height": 206
        },
        "id": "d8ZYWTLxQDkg",
        "outputId": "0a2db21d-4e87-4a95-a006-d1c813adf4ee"
      },
      "execution_count": null,
      "outputs": [
        {
          "output_type": "execute_result",
          "data": {
            "text/html": [
              "<div>\n",
              "<style scoped>\n",
              "    .dataframe tbody tr th:only-of-type {\n",
              "        vertical-align: middle;\n",
              "    }\n",
              "\n",
              "    .dataframe tbody tr th {\n",
              "        vertical-align: top;\n",
              "    }\n",
              "\n",
              "    .dataframe thead th {\n",
              "        text-align: right;\n",
              "    }\n",
              "</style>\n",
              "<table border=\"1\" class=\"dataframe\">\n",
              "  <thead>\n",
              "    <tr style=\"text-align: right;\">\n",
              "      <th></th>\n",
              "      <th>STL1</th>\n",
              "      <th>STL2</th>\n",
              "      <th>STL3</th>\n",
              "      <th>STL4</th>\n",
              "      <th>KS1</th>\n",
              "      <th>KS2</th>\n",
              "      <th>COL</th>\n",
              "      <th>SPR</th>\n",
              "    </tr>\n",
              "  </thead>\n",
              "  <tbody>\n",
              "    <tr>\n",
              "      <th>STL</th>\n",
              "      <td>8000.0</td>\n",
              "      <td>6500.0</td>\n",
              "      <td>7500.0</td>\n",
              "      <td>0.0</td>\n",
              "      <td>0.0</td>\n",
              "      <td>0.0</td>\n",
              "      <td>0.0</td>\n",
              "      <td>0.0</td>\n",
              "    </tr>\n",
              "    <tr>\n",
              "      <th>KSC</th>\n",
              "      <td>0.0</td>\n",
              "      <td>0.0</td>\n",
              "      <td>0.0</td>\n",
              "      <td>0.0</td>\n",
              "      <td>0.0</td>\n",
              "      <td>0.0</td>\n",
              "      <td>0.0</td>\n",
              "      <td>0.0</td>\n",
              "    </tr>\n",
              "    <tr>\n",
              "      <th>CLB</th>\n",
              "      <td>0.0</td>\n",
              "      <td>0.0</td>\n",
              "      <td>0.0</td>\n",
              "      <td>0.0</td>\n",
              "      <td>0.0</td>\n",
              "      <td>0.0</td>\n",
              "      <td>0.0</td>\n",
              "      <td>0.0</td>\n",
              "    </tr>\n",
              "    <tr>\n",
              "      <th>SPF</th>\n",
              "      <td>0.0</td>\n",
              "      <td>0.0</td>\n",
              "      <td>0.0</td>\n",
              "      <td>0.0</td>\n",
              "      <td>0.0</td>\n",
              "      <td>0.0</td>\n",
              "      <td>0.0</td>\n",
              "      <td>0.0</td>\n",
              "    </tr>\n",
              "    <tr>\n",
              "      <th>IDP</th>\n",
              "      <td>0.0</td>\n",
              "      <td>0.0</td>\n",
              "      <td>0.0</td>\n",
              "      <td>0.0</td>\n",
              "      <td>9500.0</td>\n",
              "      <td>2300.0</td>\n",
              "      <td>7000.0</td>\n",
              "      <td>6000.0</td>\n",
              "    </tr>\n",
              "  </tbody>\n",
              "</table>\n",
              "</div>"
            ],
            "text/plain": [
              "       STL1    STL2    STL3  STL4     KS1     KS2     COL     SPR\n",
              "STL  8000.0  6500.0  7500.0   0.0     0.0     0.0     0.0     0.0\n",
              "KSC     0.0     0.0     0.0   0.0     0.0     0.0     0.0     0.0\n",
              "CLB     0.0     0.0     0.0   0.0     0.0     0.0     0.0     0.0\n",
              "SPF     0.0     0.0     0.0   0.0     0.0     0.0     0.0     0.0\n",
              "IDP     0.0     0.0     0.0   0.0  9500.0  2300.0  7000.0  6000.0"
            ]
          },
          "metadata": {},
          "execution_count": 56
        }
      ]
    },
    {
      "cell_type": "code",
      "source": [
        "# transportation boots\n",
        "output = {}\n",
        "for j in destination:\n",
        "    output[j]=[trans_quantity[(i,j,'Boots')].varValue for i in plant]\n",
        "output_df = pd.DataFrame(output, index=plant, columns=destination)\n",
        "output_df"
      ],
      "metadata": {
        "colab": {
          "base_uri": "https://localhost:8080/",
          "height": 206
        },
        "id": "hfPAMirHQIzO",
        "outputId": "b229f9f1-9b3d-4532-d74d-4e0a56d71878"
      },
      "execution_count": null,
      "outputs": [
        {
          "output_type": "execute_result",
          "data": {
            "text/html": [
              "<div>\n",
              "<style scoped>\n",
              "    .dataframe tbody tr th:only-of-type {\n",
              "        vertical-align: middle;\n",
              "    }\n",
              "\n",
              "    .dataframe tbody tr th {\n",
              "        vertical-align: top;\n",
              "    }\n",
              "\n",
              "    .dataframe thead th {\n",
              "        text-align: right;\n",
              "    }\n",
              "</style>\n",
              "<table border=\"1\" class=\"dataframe\">\n",
              "  <thead>\n",
              "    <tr style=\"text-align: right;\">\n",
              "      <th></th>\n",
              "      <th>STL1</th>\n",
              "      <th>STL2</th>\n",
              "      <th>STL3</th>\n",
              "      <th>STL4</th>\n",
              "      <th>KS1</th>\n",
              "      <th>KS2</th>\n",
              "      <th>COL</th>\n",
              "      <th>SPR</th>\n",
              "    </tr>\n",
              "  </thead>\n",
              "  <tbody>\n",
              "    <tr>\n",
              "      <th>STL</th>\n",
              "      <td>2200.0</td>\n",
              "      <td>0.0</td>\n",
              "      <td>1200.0</td>\n",
              "      <td>900.0</td>\n",
              "      <td>0.0</td>\n",
              "      <td>0.0</td>\n",
              "      <td>0.0</td>\n",
              "      <td>0.0</td>\n",
              "    </tr>\n",
              "    <tr>\n",
              "      <th>KSC</th>\n",
              "      <td>0.0</td>\n",
              "      <td>0.0</td>\n",
              "      <td>0.0</td>\n",
              "      <td>0.0</td>\n",
              "      <td>4500.0</td>\n",
              "      <td>0.0</td>\n",
              "      <td>0.0</td>\n",
              "      <td>2080.0</td>\n",
              "    </tr>\n",
              "    <tr>\n",
              "      <th>CLB</th>\n",
              "      <td>0.0</td>\n",
              "      <td>0.0</td>\n",
              "      <td>0.0</td>\n",
              "      <td>0.0</td>\n",
              "      <td>0.0</td>\n",
              "      <td>0.0</td>\n",
              "      <td>0.0</td>\n",
              "      <td>0.0</td>\n",
              "    </tr>\n",
              "    <tr>\n",
              "      <th>SPF</th>\n",
              "      <td>0.0</td>\n",
              "      <td>0.0</td>\n",
              "      <td>0.0</td>\n",
              "      <td>0.0</td>\n",
              "      <td>0.0</td>\n",
              "      <td>0.0</td>\n",
              "      <td>0.0</td>\n",
              "      <td>0.0</td>\n",
              "    </tr>\n",
              "    <tr>\n",
              "      <th>IDP</th>\n",
              "      <td>0.0</td>\n",
              "      <td>0.0</td>\n",
              "      <td>0.0</td>\n",
              "      <td>0.0</td>\n",
              "      <td>0.0</td>\n",
              "      <td>0.0</td>\n",
              "      <td>2000.0</td>\n",
              "      <td>1120.0</td>\n",
              "    </tr>\n",
              "  </tbody>\n",
              "</table>\n",
              "</div>"
            ],
            "text/plain": [
              "       STL1  STL2    STL3   STL4     KS1  KS2     COL     SPR\n",
              "STL  2200.0   0.0  1200.0  900.0     0.0  0.0     0.0     0.0\n",
              "KSC     0.0   0.0     0.0    0.0  4500.0  0.0     0.0  2080.0\n",
              "CLB     0.0   0.0     0.0    0.0     0.0  0.0     0.0     0.0\n",
              "SPF     0.0   0.0     0.0    0.0     0.0  0.0     0.0     0.0\n",
              "IDP     0.0   0.0     0.0    0.0     0.0  0.0  2000.0  1120.0"
            ]
          },
          "metadata": {},
          "execution_count": 57
        }
      ]
    },
    {
      "cell_type": "markdown",
      "source": [
        "# Problem 3"
      ],
      "metadata": {
        "id": "VBs_C9tb1gTA"
      }
    },
    {
      "cell_type": "code",
      "source": [
        "# Establish linear minimization problem to minimize the total cost\n",
        "prob3 = LpProblem('prob3', LpMaximize)\n",
        "\n",
        "# Parameters\n",
        "demand = {'Shoes':{'STL1':8000, 'STL2':6500, 'STL3':7500, 'STL4':0, 'KS1':9500, 'KS2':2300, 'COL':7000, 'SPR':6000},\\\n",
        "          'Boots':{'STL1':2200, 'STL2':0, 'STL3':1200, 'STL4':900, 'KS1':4500, 'KS2':0, 'COL':2000, 'SPR':3200}}\n",
        "fixed_cost = {'STL':{1:0,2:2500000},'KSC':{1:1000000,2:1700000},'CLB':{1:1000000,2:1500000}, 'SPF':{1:1000000,2:1500000},'IDP':{1:900000,2:1300000}}\n",
        "variable_cost = {'STL':{'Shoes':20,'Boots':30},'KSC':{'Shoes':18,'Boots':25},'CLB':{'Shoes':15,'Boots':20}, 'SPF':{'Shoes':15,'Boots':20},'IDP':{'Shoes':12,'Boots':18}}\n",
        "unit_transportation_cost = {'Shoes':0.03, 'Boots':0.04}\n",
        "dist = trans_dist.transpose().to_dict()\n",
        "\n",
        "# Define Variables\n",
        "plant = ['STL','KSC','CLB','SPF','IDP']\n",
        "destination = ['STL1','STL2','STL3','STL4','KS1','KS2','COL','SPR']\n",
        "lines = [1,2]\n",
        "products = ['Shoes', 'Boots']\n",
        "decision_combinations = [(i,j) for i in plant for j in lines]\n",
        "production_combinations = [(i,j,p) for i in plant for j in lines for p in products]\n",
        "trans_combinations = [(i,k,p) for i in plant for k in destination for p in products]\n",
        "\n",
        "decision = LpVariable.dicts('decision',decision_combinations,lowBound=0,cat='Binary')\n",
        "quantity = LpVariable.dicts('quantity',production_combinations,lowBound=0, cat='Continuous')\n",
        "trans_quantity = LpVariable.dicts('trans_quanity',trans_combinations, lowBound=0, cat='Continuous')"
      ],
      "metadata": {
        "id": "eqa0L5bi1iDq"
      },
      "execution_count": null,
      "outputs": []
    },
    {
      "cell_type": "code",
      "source": [
        "# Objective function\n",
        "fix_cost = lpSum([decision[(i,j)]*fixed_cost[i][j] for i in plant for j in lines])\n",
        "variable_cost = lpSum([quantity[(i,j,p)]* variable_cost[i][p] for i in plant for j in lines for p in products])\n",
        "trans_cost = lpSum([dist[i][d]*(0.03*trans_quantity[(i,d,'Shoes')]+0.04*trans_quantity[(i,d,'Boots')]) for i in plant for d in destination])\n",
        "revenue = lpSum([80*quantity[(i,j,'Boots')]+50*quantity[(i,j,'Shoes')] for i in plant for j in lines])\n",
        "prob3 += revenue - fix_cost - variable_cost - trans_cost\n",
        "\n",
        "# Constraints\n",
        "## We already have 2 lines in STL and 1 line in KSC\n",
        "prob3 += decision[('STL',2)] == 1, 'Production_STL'\n",
        "prob3 += lpSum([decision[('KSC',j)] for j in lines]) == 1, 'Production_KSC'\n",
        "\n",
        "## Every other plant can have 1, 2 or no product line\n",
        "for i in plant:\n",
        "    prob3 += lpSum([decision[(i,j)] for j in lines]) <= 1, 'Production_Line_%s' %i\n",
        "\n",
        "## The demand of customeres can be unsatisfied\n",
        "for d in destination:\n",
        "    for p in products:\n",
        "        prob3 += lpSum([trans_quantity[(i,d,p)] for i in plant]) <= demand[p][d], 'Demand_%s_%s' %(p,d)\n",
        "\n",
        "## The capacity of the plant should be respected\n",
        "for i in plant:\n",
        "    for j in lines:\n",
        "        prob3 += lpSum([(1/15000)*quantity[(i,j,'Shoes')]+(1/9000)*quantity[(i,j,'Boots')]]) <= decision[(i,j)]*j, 'Capacity_%s_%s' %(i,j)\n",
        "\n",
        "## expansion and/or extra\n",
        "prob3 += lpSum([decision[(i,j)] for i in plant[2:] for j in lines]) <= 1, 'Extra_Plant_%s_%i' %(i,j)\n",
        "\n",
        "## The output of the plant should equal to its prouction\n",
        "for i in plant:\n",
        "    for p in products:\n",
        "        prob3 += lpSum([trans_quantity[(i,d,p)] for d in destination]) == lpSum([quantity[(i,j,p)] for j in lines]), 'Output_%s_%s' %(i,p)"
      ],
      "metadata": {
        "id": "LlRSrsseNxcN"
      },
      "execution_count": null,
      "outputs": []
    },
    {
      "cell_type": "code",
      "source": [
        "# Solve for the answer\n",
        "prob3.solve()\n",
        "print('Status: ', LpStatus[prob3.status])"
      ],
      "metadata": {
        "colab": {
          "base_uri": "https://localhost:8080/"
        },
        "id": "0j3zErC_N1W-",
        "outputId": "7613074e-b477-491c-c6fc-d630f6dcc49c"
      },
      "execution_count": null,
      "outputs": [
        {
          "output_type": "stream",
          "name": "stdout",
          "text": [
            "Status:  Optimal\n"
          ]
        }
      ]
    },
    {
      "cell_type": "code",
      "source": [
        "# get the minimized cost\n",
        "print(\"Total profit = \", value(prob3.objective))"
      ],
      "metadata": {
        "colab": {
          "base_uri": "https://localhost:8080/"
        },
        "id": "NqeWGCDhN3cE",
        "outputId": "500c5288-1309-42e4-af85-864ec6459615"
      },
      "execution_count": null,
      "outputs": [
        {
          "output_type": "stream",
          "name": "stdout",
          "text": [
            "Total profit =  -2127270.0\n"
          ]
        }
      ]
    },
    {
      "cell_type": "code",
      "source": [
        "# production\n",
        "output = []\n",
        "for i in plant:\n",
        "    for j in lines:\n",
        "        output_sub = [decision[(i,j)].varValue]\n",
        "        for p in products:\n",
        "            output_sub.append(quantity[(i,j,p)].varValue)\n",
        "        output.append(output_sub)\n",
        "production_df = pd.DataFrame(output,index=decision_combinations, columns=['Decision','Shoes','Boots'])\n",
        "production_df"
      ],
      "metadata": {
        "colab": {
          "base_uri": "https://localhost:8080/",
          "height": 363
        },
        "id": "ahtLwYVMQMeW",
        "outputId": "478325a9-eada-4613-9869-45a93b077fc7"
      },
      "execution_count": null,
      "outputs": [
        {
          "output_type": "execute_result",
          "data": {
            "text/html": [
              "<div>\n",
              "<style scoped>\n",
              "    .dataframe tbody tr th:only-of-type {\n",
              "        vertical-align: middle;\n",
              "    }\n",
              "\n",
              "    .dataframe tbody tr th {\n",
              "        vertical-align: top;\n",
              "    }\n",
              "\n",
              "    .dataframe thead th {\n",
              "        text-align: right;\n",
              "    }\n",
              "</style>\n",
              "<table border=\"1\" class=\"dataframe\">\n",
              "  <thead>\n",
              "    <tr style=\"text-align: right;\">\n",
              "      <th></th>\n",
              "      <th>Decision</th>\n",
              "      <th>Shoes</th>\n",
              "      <th>Boots</th>\n",
              "    </tr>\n",
              "  </thead>\n",
              "  <tbody>\n",
              "    <tr>\n",
              "      <th>(STL, 1)</th>\n",
              "      <td>0.0</td>\n",
              "      <td>0.0</td>\n",
              "      <td>0.0</td>\n",
              "    </tr>\n",
              "    <tr>\n",
              "      <th>(STL, 2)</th>\n",
              "      <td>1.0</td>\n",
              "      <td>22000.0</td>\n",
              "      <td>4800.0</td>\n",
              "    </tr>\n",
              "    <tr>\n",
              "      <th>(KSC, 1)</th>\n",
              "      <td>1.0</td>\n",
              "      <td>7500.0</td>\n",
              "      <td>4500.0</td>\n",
              "    </tr>\n",
              "    <tr>\n",
              "      <th>(KSC, 2)</th>\n",
              "      <td>0.0</td>\n",
              "      <td>0.0</td>\n",
              "      <td>0.0</td>\n",
              "    </tr>\n",
              "    <tr>\n",
              "      <th>(CLB, 1)</th>\n",
              "      <td>0.0</td>\n",
              "      <td>0.0</td>\n",
              "      <td>0.0</td>\n",
              "    </tr>\n",
              "    <tr>\n",
              "      <th>(CLB, 2)</th>\n",
              "      <td>0.0</td>\n",
              "      <td>0.0</td>\n",
              "      <td>0.0</td>\n",
              "    </tr>\n",
              "    <tr>\n",
              "      <th>(SPF, 1)</th>\n",
              "      <td>0.0</td>\n",
              "      <td>0.0</td>\n",
              "      <td>0.0</td>\n",
              "    </tr>\n",
              "    <tr>\n",
              "      <th>(SPF, 2)</th>\n",
              "      <td>0.0</td>\n",
              "      <td>0.0</td>\n",
              "      <td>0.0</td>\n",
              "    </tr>\n",
              "    <tr>\n",
              "      <th>(IDP, 1)</th>\n",
              "      <td>0.0</td>\n",
              "      <td>0.0</td>\n",
              "      <td>0.0</td>\n",
              "    </tr>\n",
              "    <tr>\n",
              "      <th>(IDP, 2)</th>\n",
              "      <td>0.0</td>\n",
              "      <td>0.0</td>\n",
              "      <td>0.0</td>\n",
              "    </tr>\n",
              "  </tbody>\n",
              "</table>\n",
              "</div>"
            ],
            "text/plain": [
              "          Decision    Shoes   Boots\n",
              "(STL, 1)       0.0      0.0     0.0\n",
              "(STL, 2)       1.0  22000.0  4800.0\n",
              "(KSC, 1)       1.0   7500.0  4500.0\n",
              "(KSC, 2)       0.0      0.0     0.0\n",
              "(CLB, 1)       0.0      0.0     0.0\n",
              "(CLB, 2)       0.0      0.0     0.0\n",
              "(SPF, 1)       0.0      0.0     0.0\n",
              "(SPF, 2)       0.0      0.0     0.0\n",
              "(IDP, 1)       0.0      0.0     0.0\n",
              "(IDP, 2)       0.0      0.0     0.0"
            ]
          },
          "metadata": {},
          "execution_count": 62
        }
      ]
    },
    {
      "cell_type": "code",
      "source": [
        "# transportation shoes\n",
        "output = {}\n",
        "for j in destination:\n",
        "    output[j]=[trans_quantity[(i,j,'Shoes')].varValue for i in plant]\n",
        "output_df = pd.DataFrame(output, index=plant, columns=destination)\n",
        "output_df"
      ],
      "metadata": {
        "colab": {
          "base_uri": "https://localhost:8080/",
          "height": 206
        },
        "id": "1C0Nv3spQL_B",
        "outputId": "08fe083d-a72d-4b25-f574-b6494d41c054"
      },
      "execution_count": null,
      "outputs": [
        {
          "output_type": "execute_result",
          "data": {
            "text/html": [
              "<div>\n",
              "<style scoped>\n",
              "    .dataframe tbody tr th:only-of-type {\n",
              "        vertical-align: middle;\n",
              "    }\n",
              "\n",
              "    .dataframe tbody tr th {\n",
              "        vertical-align: top;\n",
              "    }\n",
              "\n",
              "    .dataframe thead th {\n",
              "        text-align: right;\n",
              "    }\n",
              "</style>\n",
              "<table border=\"1\" class=\"dataframe\">\n",
              "  <thead>\n",
              "    <tr style=\"text-align: right;\">\n",
              "      <th></th>\n",
              "      <th>STL1</th>\n",
              "      <th>STL2</th>\n",
              "      <th>STL3</th>\n",
              "      <th>STL4</th>\n",
              "      <th>KS1</th>\n",
              "      <th>KS2</th>\n",
              "      <th>COL</th>\n",
              "      <th>SPR</th>\n",
              "    </tr>\n",
              "  </thead>\n",
              "  <tbody>\n",
              "    <tr>\n",
              "      <th>STL</th>\n",
              "      <td>8000.0</td>\n",
              "      <td>6500.0</td>\n",
              "      <td>7500.0</td>\n",
              "      <td>0.0</td>\n",
              "      <td>0.0</td>\n",
              "      <td>0.0</td>\n",
              "      <td>0.0</td>\n",
              "      <td>0.0</td>\n",
              "    </tr>\n",
              "    <tr>\n",
              "      <th>KSC</th>\n",
              "      <td>0.0</td>\n",
              "      <td>0.0</td>\n",
              "      <td>0.0</td>\n",
              "      <td>0.0</td>\n",
              "      <td>5200.0</td>\n",
              "      <td>2300.0</td>\n",
              "      <td>0.0</td>\n",
              "      <td>0.0</td>\n",
              "    </tr>\n",
              "    <tr>\n",
              "      <th>CLB</th>\n",
              "      <td>0.0</td>\n",
              "      <td>0.0</td>\n",
              "      <td>0.0</td>\n",
              "      <td>0.0</td>\n",
              "      <td>0.0</td>\n",
              "      <td>0.0</td>\n",
              "      <td>0.0</td>\n",
              "      <td>0.0</td>\n",
              "    </tr>\n",
              "    <tr>\n",
              "      <th>SPF</th>\n",
              "      <td>0.0</td>\n",
              "      <td>0.0</td>\n",
              "      <td>0.0</td>\n",
              "      <td>0.0</td>\n",
              "      <td>0.0</td>\n",
              "      <td>0.0</td>\n",
              "      <td>0.0</td>\n",
              "      <td>0.0</td>\n",
              "    </tr>\n",
              "    <tr>\n",
              "      <th>IDP</th>\n",
              "      <td>0.0</td>\n",
              "      <td>0.0</td>\n",
              "      <td>0.0</td>\n",
              "      <td>0.0</td>\n",
              "      <td>0.0</td>\n",
              "      <td>0.0</td>\n",
              "      <td>0.0</td>\n",
              "      <td>0.0</td>\n",
              "    </tr>\n",
              "  </tbody>\n",
              "</table>\n",
              "</div>"
            ],
            "text/plain": [
              "       STL1    STL2    STL3  STL4     KS1     KS2  COL  SPR\n",
              "STL  8000.0  6500.0  7500.0   0.0     0.0     0.0  0.0  0.0\n",
              "KSC     0.0     0.0     0.0   0.0  5200.0  2300.0  0.0  0.0\n",
              "CLB     0.0     0.0     0.0   0.0     0.0     0.0  0.0  0.0\n",
              "SPF     0.0     0.0     0.0   0.0     0.0     0.0  0.0  0.0\n",
              "IDP     0.0     0.0     0.0   0.0     0.0     0.0  0.0  0.0"
            ]
          },
          "metadata": {},
          "execution_count": 63
        }
      ]
    },
    {
      "cell_type": "code",
      "source": [
        "# transportation boots\n",
        "output = {}\n",
        "for j in destination:\n",
        "    output[j]=[trans_quantity[(i,j,'Boots')].varValue for i in plant]\n",
        "output_df = pd.DataFrame(output, index=plant, columns=destination)\n",
        "output_df"
      ],
      "metadata": {
        "id": "WrAHbJSfygcF",
        "outputId": "fbb9b8b4-a1ca-4d55-b1b5-699ea3e0af7b",
        "colab": {
          "base_uri": "https://localhost:8080/",
          "height": 206
        }
      },
      "execution_count": null,
      "outputs": [
        {
          "output_type": "execute_result",
          "data": {
            "text/html": [
              "<div>\n",
              "<style scoped>\n",
              "    .dataframe tbody tr th:only-of-type {\n",
              "        vertical-align: middle;\n",
              "    }\n",
              "\n",
              "    .dataframe tbody tr th {\n",
              "        vertical-align: top;\n",
              "    }\n",
              "\n",
              "    .dataframe thead th {\n",
              "        text-align: right;\n",
              "    }\n",
              "</style>\n",
              "<table border=\"1\" class=\"dataframe\">\n",
              "  <thead>\n",
              "    <tr style=\"text-align: right;\">\n",
              "      <th></th>\n",
              "      <th>STL1</th>\n",
              "      <th>STL2</th>\n",
              "      <th>STL3</th>\n",
              "      <th>STL4</th>\n",
              "      <th>KS1</th>\n",
              "      <th>KS2</th>\n",
              "      <th>COL</th>\n",
              "      <th>SPR</th>\n",
              "    </tr>\n",
              "  </thead>\n",
              "  <tbody>\n",
              "    <tr>\n",
              "      <th>STL</th>\n",
              "      <td>2200.0</td>\n",
              "      <td>0.0</td>\n",
              "      <td>1200.0</td>\n",
              "      <td>900.0</td>\n",
              "      <td>0.0</td>\n",
              "      <td>0.0</td>\n",
              "      <td>500.0</td>\n",
              "      <td>0.0</td>\n",
              "    </tr>\n",
              "    <tr>\n",
              "      <th>KSC</th>\n",
              "      <td>0.0</td>\n",
              "      <td>0.0</td>\n",
              "      <td>0.0</td>\n",
              "      <td>0.0</td>\n",
              "      <td>4500.0</td>\n",
              "      <td>0.0</td>\n",
              "      <td>0.0</td>\n",
              "      <td>0.0</td>\n",
              "    </tr>\n",
              "    <tr>\n",
              "      <th>CLB</th>\n",
              "      <td>0.0</td>\n",
              "      <td>0.0</td>\n",
              "      <td>0.0</td>\n",
              "      <td>0.0</td>\n",
              "      <td>0.0</td>\n",
              "      <td>0.0</td>\n",
              "      <td>0.0</td>\n",
              "      <td>0.0</td>\n",
              "    </tr>\n",
              "    <tr>\n",
              "      <th>SPF</th>\n",
              "      <td>0.0</td>\n",
              "      <td>0.0</td>\n",
              "      <td>0.0</td>\n",
              "      <td>0.0</td>\n",
              "      <td>0.0</td>\n",
              "      <td>0.0</td>\n",
              "      <td>0.0</td>\n",
              "      <td>0.0</td>\n",
              "    </tr>\n",
              "    <tr>\n",
              "      <th>IDP</th>\n",
              "      <td>0.0</td>\n",
              "      <td>0.0</td>\n",
              "      <td>0.0</td>\n",
              "      <td>0.0</td>\n",
              "      <td>0.0</td>\n",
              "      <td>0.0</td>\n",
              "      <td>0.0</td>\n",
              "      <td>0.0</td>\n",
              "    </tr>\n",
              "  </tbody>\n",
              "</table>\n",
              "</div>"
            ],
            "text/plain": [
              "       STL1  STL2    STL3   STL4     KS1  KS2    COL  SPR\n",
              "STL  2200.0   0.0  1200.0  900.0     0.0  0.0  500.0  0.0\n",
              "KSC     0.0   0.0     0.0    0.0  4500.0  0.0    0.0  0.0\n",
              "CLB     0.0   0.0     0.0    0.0     0.0  0.0    0.0  0.0\n",
              "SPF     0.0   0.0     0.0    0.0     0.0  0.0    0.0  0.0\n",
              "IDP     0.0   0.0     0.0    0.0     0.0  0.0    0.0  0.0"
            ]
          },
          "metadata": {},
          "execution_count": 64
        }
      ]
    }
  ]
}